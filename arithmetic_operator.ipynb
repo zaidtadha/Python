{
  "nbformat": 4,
  "nbformat_minor": 0,
  "metadata": {
    "colab": {
      "name": "arithmetic operator",
      "provenance": [],
      "authorship_tag": "ABX9TyNuAYowCXzbqn6Ve7qW3BL9",
      "include_colab_link": true
    },
    "kernelspec": {
      "name": "python3",
      "display_name": "Python 3"
    },
    "language_info": {
      "name": "python"
    }
  },
  "cells": [
    {
      "cell_type": "markdown",
      "metadata": {
        "id": "view-in-github",
        "colab_type": "text"
      },
      "source": [
        "<a href=\"https://colab.research.google.com/github/zaidtadha/Python/blob/main/arithmetic_operator.ipynb\" target=\"_parent\"><img src=\"https://colab.research.google.com/assets/colab-badge.svg\" alt=\"Open In Colab\"/></a>"
      ]
    },
    {
      "cell_type": "code",
      "execution_count": 1,
      "metadata": {
        "colab": {
          "base_uri": "https://localhost:8080/"
        },
        "id": "I0wenDGzBsGa",
        "outputId": "bf58a3db-08ab-48f2-a0a6-e1423e8ff15c"
      },
      "outputs": [
        {
          "output_type": "stream",
          "name": "stdout",
          "text": [
            "False\n"
          ]
        }
      ],
      "source": [
        "x = 5\n",
        "y = 10\n",
        "print( x == y )"
      ]
    },
    {
      "cell_type": "code",
      "source": [
        "print(x != y)"
      ],
      "metadata": {
        "colab": {
          "base_uri": "https://localhost:8080/"
        },
        "id": "bPz40vC3B8bC",
        "outputId": "30fac38d-5f1e-4b49-d1cf-d58e387df876"
      },
      "execution_count": 2,
      "outputs": [
        {
          "output_type": "stream",
          "name": "stdout",
          "text": [
            "True\n"
          ]
        }
      ]
    },
    {
      "cell_type": "code",
      "source": [
        "print(x > y)"
      ],
      "metadata": {
        "colab": {
          "base_uri": "https://localhost:8080/"
        },
        "id": "wgBUjLJYCDxY",
        "outputId": "3d80ef82-1bac-4edf-d140-6fbd1efa43b5"
      },
      "execution_count": 3,
      "outputs": [
        {
          "output_type": "stream",
          "name": "stdout",
          "text": [
            "False\n"
          ]
        }
      ]
    },
    {
      "cell_type": "code",
      "source": [
        "print(x < y)"
      ],
      "metadata": {
        "colab": {
          "base_uri": "https://localhost:8080/"
        },
        "id": "8Y2Nf-o7CGQn",
        "outputId": "e6510963-ab2a-4223-cd82-949936096450"
      },
      "execution_count": 4,
      "outputs": [
        {
          "output_type": "stream",
          "name": "stdout",
          "text": [
            "True\n"
          ]
        }
      ]
    },
    {
      "cell_type": "code",
      "source": [
        "print(x <= y)"
      ],
      "metadata": {
        "colab": {
          "base_uri": "https://localhost:8080/"
        },
        "id": "L9WZb0psCIds",
        "outputId": "505407d7-ca54-4fd2-9ccd-5afb54d08237"
      },
      "execution_count": 5,
      "outputs": [
        {
          "output_type": "stream",
          "name": "stdout",
          "text": [
            "True\n"
          ]
        }
      ]
    },
    {
      "cell_type": "code",
      "source": [
        "num1 = input('Enter first number: ')  \n",
        "num2 = input('Enter second number: ')  \n",
        "  \n",
        "sum = float(num1) + float(num2) \n",
        "   \n",
        "min = float(num1) - float(num2)  \n",
        "  \n",
        "mul = float(num1) * float(num2)  \n",
        "\n",
        "div = float(num1) / float(num2)  \n",
        "\n",
        "print('The sum of {0} and {1} is {2}'.format(num1, num2, sum))  "
      ],
      "metadata": {
        "colab": {
          "base_uri": "https://localhost:8080/"
        },
        "id": "IxIjqkScCLIB",
        "outputId": "b18f26ba-4e15-4b26-90ca-0f9bc2382bc6"
      },
      "execution_count": 6,
      "outputs": [
        {
          "output_type": "stream",
          "name": "stdout",
          "text": [
            "Enter first number: 10\n",
            "Enter second number: 11\n",
            "The sum of 10 and 11 is 21.0\n"
          ]
        }
      ]
    },
    {
      "cell_type": "code",
      "source": [
        "print('The sum of {0} and {1} is {2}'.format(num1, num2, min))"
      ],
      "metadata": {
        "colab": {
          "base_uri": "https://localhost:8080/"
        },
        "id": "xgiqrT5iDJ9W",
        "outputId": "08a1c6bb-36c0-434a-8e67-deaeac2d902a"
      },
      "execution_count": 7,
      "outputs": [
        {
          "output_type": "stream",
          "name": "stdout",
          "text": [
            "The sum of 10 and 11 is -1.0\n"
          ]
        }
      ]
    },
    {
      "cell_type": "code",
      "source": [
        "print('The sum of {0} and {1} is {2}'.format(num1, num2, mul))"
      ],
      "metadata": {
        "colab": {
          "base_uri": "https://localhost:8080/"
        },
        "id": "3YvbTC8CH5Tl",
        "outputId": "a6e46900-fd25-4545-a620-e8ae1c542a86"
      },
      "execution_count": 8,
      "outputs": [
        {
          "output_type": "stream",
          "name": "stdout",
          "text": [
            "The sum of 10 and 11 is 110.0\n"
          ]
        }
      ]
    },
    {
      "cell_type": "code",
      "source": [
        "print('The sum of {0} and {1} is {2}'.format(num1, num2, div))"
      ],
      "metadata": {
        "colab": {
          "base_uri": "https://localhost:8080/"
        },
        "id": "eIopFVLIH_-q",
        "outputId": "3fb1c48e-5553-47f3-d5b2-5b0f1a8d0366"
      },
      "execution_count": 9,
      "outputs": [
        {
          "output_type": "stream",
          "name": "stdout",
          "text": [
            "The sum of 10 and 11 is 0.9090909090909091\n"
          ]
        }
      ]
    },
    {
      "cell_type": "code",
      "source": [
        ""
      ],
      "metadata": {
        "id": "lY_vS5YmIJS3"
      },
      "execution_count": null,
      "outputs": []
    }
  ]
}