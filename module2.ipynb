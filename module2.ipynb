{
  "cells": [
    {
      "cell_type": "markdown",
      "metadata": {
        "id": "view-in-github",
        "colab_type": "text"
      },
      "source": [
        "<a href=\"https://colab.research.google.com/github/zaidtadha/Python/blob/main/module2.ipynb\" target=\"_parent\"><img src=\"https://colab.research.google.com/assets/colab-badge.svg\" alt=\"Open In Colab\"/></a>"
      ]
    },
    {
      "cell_type": "code",
      "execution_count": null,
      "metadata": {
        "colab": {
          "base_uri": "https://localhost:8080/"
        },
        "id": "rzGRsmE4we9c",
        "outputId": "319a9d82-666f-474a-afb6-5a79c1d913f0"
      },
      "outputs": [
        {
          "name": "stdout",
          "output_type": "stream",
          "text": [
            "Enter a number: -1\n",
            "Negative number\n"
          ]
        }
      ],
      "source": [
        "#Write a Python program to check if a number is positive, negative or zero.\n",
        " \n",
        "num = float(input(\"Enter a number: \"))\n",
        "if num > 0:\n",
        "   print(\"Positive number\")\n",
        "elif num == 0:\n",
        "   print(\"Zero\")\n",
        "else:\n",
        "   print(\"Negative number\")\n",
        "\n"
      ]
    },
    {
      "cell_type": "code",
      "execution_count": null,
      "metadata": {
        "colab": {
          "base_uri": "https://localhost:8080/"
        },
        "id": "UQI1SXW9AAez",
        "outputId": "aaf16c2c-01ae-4406-f0c3-e3e97dc05f20"
      },
      "outputs": [
        {
          "name": "stdout",
          "output_type": "stream",
          "text": [
            "The factorial of 7 is 5040\n"
          ]
        }
      ],
      "source": [
        "#Write a Python program to get the Factorial number of given number.\n",
        "num = 7\n",
        "factorial =1\n",
        "if num < 0:\n",
        "   print(\"Sorry, factorial does not exist for negative numbers\")\n",
        "elif num == 0:\n",
        "   print(\"The factorial of 0 is 1\")\n",
        "else:\n",
        "   for i in range(1,num + 1):\n",
        "       factorial = factorial*i\n",
        "   print(\"The factorial of\",num,\"is\",factorial)"
      ]
    },
    {
      "cell_type": "code",
      "execution_count": null,
      "metadata": {
        "colab": {
          "base_uri": "https://localhost:8080/"
        },
        "id": "E38n-hJcCQGt",
        "outputId": "04668713-0e8d-4537-c9f8-a1eb68f72545"
      },
      "outputs": [
        {
          "output_type": "stream",
          "name": "stdout",
          "text": [
            "enter number :8\n",
            "enter number :4\n",
            "x 4\n",
            "y 8\n"
          ]
        }
      ],
      "source": [
        "# 6 write python rogram that swap two number with temp variable and without temp using temp variable\n",
        "x = input(\"enter number :\")\n",
        "y = input(\"enter number :\")\n",
        "\n",
        "temp = x\n",
        "x = y\n",
        "y = temp\n",
        "print(\"x\",x)\n",
        "print(\"y\",y)\n"
      ]
    },
    {
      "cell_type": "code",
      "execution_count": null,
      "metadata": {
        "colab": {
          "base_uri": "https://localhost:8080/"
        },
        "id": "ZRMI3-0TFAtQ",
        "outputId": "a4776534-3112-40bc-cd24-ec9db8fec89b"
      },
      "outputs": [
        {
          "output_type": "stream",
          "name": "stdout",
          "text": [
            "enter number x : 8\n",
            "enter number y :4\n",
            "x 4\n",
            "y 8\n"
          ]
        }
      ],
      "source": [
        "#withot temp\n",
        "x = input(\"enter number x : \")\n",
        "y = input(\"enter number y :\")\n",
        "x,y=y,x\n",
        "print(\"x\",x)\n",
        "print(\"y\",y)\n"
      ]
    },
    {
      "cell_type": "code",
      "execution_count": null,
      "metadata": {
        "colab": {
          "base_uri": "https://localhost:8080/"
        },
        "id": "tVDFobqbGS7Q",
        "outputId": "0c604ce2-1037-4911-df39-82aee39d833c"
      },
      "outputs": [
        {
          "output_type": "stream",
          "name": "stdout",
          "text": [
            "Enter a number: 45\n",
            "is Odd number\n"
          ]
        }
      ],
      "source": [
        "a = int(input(\"Enter a number: \"))  \n",
        "if a % 2==0:  \n",
        "   print(\"is Even number\")  \n",
        "else:  \n",
        "   print(\"is Odd number\")  "
      ]
    },
    {
      "cell_type": "code",
      "execution_count": null,
      "metadata": {
        "id": "fHiB8OVZGzJB",
        "colab": {
          "base_uri": "https://localhost:8080/"
        },
        "outputId": "f7a18ebd-b643-4ba5-e42a-41097fc8c88d"
      },
      "outputs": [
        {
          "output_type": "stream",
          "name": "stdout",
          "text": [
            "Input a letter of the alphabet: y\n",
            "y is a consonant.\n"
          ]
        }
      ],
      "source": [
        "l = input(\"Input a letter of the alphabet: \")\n",
        "\n",
        "if l in ('a', 'e', 'i', 'o', 'u'):\n",
        "\tprint(\"%s is a vowel.\" % l)\n",
        "else:\n",
        "\tprint(\"%s is a consonant.\" % l) "
      ]
    },
    {
      "cell_type": "code",
      "source": [
        "#Write a Python program to sum of three given integers. However, if two values are equal sum will be zero\n",
        "def sum(x, y, z):\n",
        "    if x == y or y == z or x==z:\n",
        "        sum = 0\n",
        "    else:\n",
        "        sum = x + y + z\n",
        "    return sum\n",
        "\n",
        "print(sum(2, 1, 2))\n",
        "print(sum(3, 2, 2))\n",
        "print(sum(2, 2, 2))\n",
        "print(sum(1, 2, 3))\n"
      ],
      "metadata": {
        "colab": {
          "base_uri": "https://localhost:8080/"
        },
        "id": "xYDJMzuAGsnL",
        "outputId": "b46a8ff9-212f-45e5-f739-7e4ae3d154c4"
      },
      "execution_count": null,
      "outputs": [
        {
          "output_type": "stream",
          "name": "stdout",
          "text": [
            "0\n",
            "0\n",
            "0\n",
            "6\n"
          ]
        }
      ]
    },
    {
      "cell_type": "code",
      "source": [
        "#Write a Python program that will return true if the two given integer values are equal or their sum or difference is 5.\n",
        "\n",
        "def test_number5(x, y):\n",
        "    if x == y or abs(x-y) == 5 or (x+y) == 5:\n",
        "        return True\n",
        "    else:\n",
        "        return False\n",
        "\n",
        "print(test_number5(7, 2))\n",
        "print(test_number5(3, 2))\n",
        "print(test_number5(2, 2))"
      ],
      "metadata": {
        "colab": {
          "base_uri": "https://localhost:8080/"
        },
        "id": "l-TnjpSCIWpl",
        "outputId": "ec5cbe40-48e9-43d9-b638-521563706a9e"
      },
      "execution_count": null,
      "outputs": [
        {
          "output_type": "stream",
          "name": "stdout",
          "text": [
            "True\n",
            "True\n",
            "True\n"
          ]
        }
      ]
    },
    {
      "cell_type": "code",
      "source": [
        "#Calculate the sum of first N positive integers.\n",
        "n = int(input(\"Input a number: \"))\n",
        "sum_num = (n * (n + 1)) / 2\n",
        "print(\"Sum of the first\", n ,\"positive integers:\", sum_num)"
      ],
      "metadata": {
        "colab": {
          "base_uri": "https://localhost:8080/"
        },
        "id": "2fGwkYF_KrXc",
        "outputId": "17d3b8ef-1309-4312-c6e2-56f814bc440c"
      },
      "execution_count": null,
      "outputs": [
        {
          "output_type": "stream",
          "name": "stdout",
          "text": [
            "Input a number: 10\n",
            "Sum of the first 10 positive integers: 55.0\n"
          ]
        }
      ]
    },
    {
      "cell_type": "code",
      "source": [
        "str = input(\"Enter a string: \")\n",
        "print(\"Length of the input string is:\", len(str))"
      ],
      "metadata": {
        "id": "ljbzkoR3KuEq",
        "colab": {
          "base_uri": "https://localhost:8080/"
        },
        "outputId": "efcf129c-dabe-42aa-8567-54fe980cfd0b"
      },
      "execution_count": null,
      "outputs": [
        {
          "output_type": "stream",
          "name": "stdout",
          "text": [
            "Enter a string: zaiddd\n",
            "Length of the input string is: 6\n"
          ]
        }
      ]
    },
    {
      "cell_type": "code",
      "source": [
        "#Write a Python program to count occurrences of a substring in a string\n",
        "str1 = 'hello this is module 2.'\n",
        "print()\n",
        "print(str1.count(\"module\"))\n",
        "print()"
      ],
      "metadata": {
        "colab": {
          "base_uri": "https://localhost:8080/"
        },
        "id": "ciHtkToVW7il",
        "outputId": "a97c3625-7bab-493a-d839-f913177df7bc"
      },
      "execution_count": null,
      "outputs": [
        {
          "output_type": "stream",
          "name": "stdout",
          "text": [
            "\n",
            "1\n",
            "\n"
          ]
        }
      ]
    },
    {
      "cell_type": "code",
      "source": [
        "#Write a Python program to count the occurrences of each word in a given sentence.\n",
        "def word_count(str):\n",
        "    counts = dict()\n",
        "    words = str.split()\n",
        "\n",
        "    for word in words:\n",
        "        if word in counts:\n",
        "            counts[word] += 1\n",
        "        else:\n",
        "            counts[word] = 1\n",
        "\n",
        "    return counts\n",
        "\n",
        "print( word_count('this is module two programs'))"
      ],
      "metadata": {
        "colab": {
          "base_uri": "https://localhost:8080/"
        },
        "id": "hfx0vBKNYMuK",
        "outputId": "33677128-94af-487f-818c-004063beca99"
      },
      "execution_count": null,
      "outputs": [
        {
          "output_type": "stream",
          "name": "stdout",
          "text": [
            "{'this': 1, 'is': 1, 'module': 1, 'two': 1, 'programs': 1}\n"
          ]
        }
      ]
    },
    {
      "cell_type": "code",
      "source": [
        "#Write a Python program to get a single string from two given strings, separated by a space and swap the first two characters of each string\n",
        "\n",
        "def chars_mix_up(a, b):\n",
        "  new_a = b[:2] + a[2:]\n",
        "  new_b = a[:2] + b[2:]\n",
        "\n",
        "  return new_a + ' ' + new_b\n",
        "print(chars_mix_up('taid', 'zadha'))\n"
      ],
      "metadata": {
        "colab": {
          "base_uri": "https://localhost:8080/"
        },
        "id": "Jn2PEyW9ZbLa",
        "outputId": "e1fe9eb6-d065-491c-ca3a-699fde08a6e7"
      },
      "execution_count": null,
      "outputs": [
        {
          "output_type": "stream",
          "name": "stdout",
          "text": [
            "zaid tadha\n"
          ]
        }
      ]
    },
    {
      "cell_type": "code",
      "source": [
        "#Write a Python program to add 'ing' at the end of a given string\n",
        "def add_string(str1):\n",
        "  length = len(str1)\n",
        "\n",
        "  if length > 2:\n",
        "    if str1[-3:] == 'ing':\n",
        "      str1 += 'ly'\n",
        "    else:\n",
        "      str1 += 'ing'\n",
        "\n",
        "  return str1\n",
        "print(add_string('ab'))\n",
        "print(add_string('abc'))\n",
        "print(add_string('string'))"
      ],
      "metadata": {
        "colab": {
          "base_uri": "https://localhost:8080/"
        },
        "id": "ATD1d3IDZ5vj",
        "outputId": "c972eaa4-c495-428a-8c09-a3f98b7b61e9"
      },
      "execution_count": null,
      "outputs": [
        {
          "output_type": "stream",
          "name": "stdout",
          "text": [
            "ab\n",
            "abcing\n",
            "stringly\n"
          ]
        }
      ]
    },
    {
      "cell_type": "code",
      "source": [],
      "metadata": {
        "id": "it7od6q4azKs"
      },
      "execution_count": null,
      "outputs": []
    }
  ],
  "metadata": {
    "colab": {
      "provenance": [],
      "collapsed_sections": [],
      "authorship_tag": "ABX9TyNg2zY1ZOQoIyGAoEAV8+jz",
      "include_colab_link": true
    },
    "kernelspec": {
      "display_name": "Python 3",
      "name": "python3"
    },
    "language_info": {
      "name": "python"
    }
  },
  "nbformat": 4,
  "nbformat_minor": 0
}