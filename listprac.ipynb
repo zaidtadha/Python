{
  "nbformat": 4,
  "nbformat_minor": 0,
  "metadata": {
    "colab": {
      "name": "listprac.ipynb",
      "provenance": [],
      "authorship_tag": "ABX9TyNxeIyKDZq7izE37ZSQCGUn",
      "include_colab_link": true
    },
    "kernelspec": {
      "name": "python3",
      "display_name": "Python 3"
    },
    "language_info": {
      "name": "python"
    }
  },
  "cells": [
    {
      "cell_type": "markdown",
      "metadata": {
        "id": "view-in-github",
        "colab_type": "text"
      },
      "source": [
        "<a href=\"https://colab.research.google.com/github/zaidtadha/Python/blob/main/listprac.ipynb\" target=\"_parent\"><img src=\"https://colab.research.google.com/assets/colab-badge.svg\" alt=\"Open In Colab\"/></a>"
      ]
    },
    {
      "cell_type": "code",
      "execution_count": null,
      "metadata": {
        "colab": {
          "base_uri": "https://localhost:8080/"
        },
        "id": "QQg_c8UrSMP1",
        "outputId": "77dfd0dd-e541-4c49-ab92-af733efa2b9e"
      },
      "outputs": [
        {
          "output_type": "execute_result",
          "data": {
            "text/plain": [
              "1997"
            ]
          },
          "metadata": {},
          "execution_count": 6
        }
      ],
      "source": [
        "list1 = [\"physics\", \"chemistry\", 1997, 2000]\n",
        "list2 = [1, 2, 3, 4, 5, 6, 7 ]\n",
        "list1[2]"
      ]
    },
    {
      "cell_type": "code",
      "source": [
        "a = [\"apple\", \"banana\", \"cherry\"]\n",
        "\n",
        "x = a.count(\"apple\")\n",
        "x"
      ],
      "metadata": {
        "colab": {
          "base_uri": "https://localhost:8080/"
        },
        "id": "K1aowWqKSNJ2",
        "outputId": "f47495ca-d832-4dbd-b040-6fdf8852a6de"
      },
      "execution_count": 13,
      "outputs": [
        {
          "output_type": "execute_result",
          "data": {
            "text/plain": [
              "1"
            ]
          },
          "metadata": {},
          "execution_count": 13
        }
      ]
    },
    {
      "cell_type": "code",
      "source": [
        "\n",
        "numbers = [2, 3, 5]\n",
        "numbers1 = [1, 4]\n",
        "numbers.extend(numbers1)\n",
        "print('List after extend():', numbers)\n"
      ],
      "metadata": {
        "id": "nuHDf1yJUu3f",
        "colab": {
          "base_uri": "https://localhost:8080/"
        },
        "outputId": "1901956f-e6a5-4d76-9d5c-a2381c4783dd"
      },
      "execution_count": 9,
      "outputs": [
        {
          "output_type": "stream",
          "name": "stdout",
          "text": [
            "List after extend(): [2, 3, 5, 1, 4]\n"
          ]
        }
      ]
    },
    {
      "cell_type": "code",
      "source": [
        "animals = ['cat', 'dog', 'rabbit', 'horse']\n",
        "index = animals.index('dog')\n",
        "print(index)"
      ],
      "metadata": {
        "colab": {
          "base_uri": "https://localhost:8080/"
        },
        "id": "9_fzWpBcYnVd",
        "outputId": "7b54b68b-298c-4ce8-cf6a-64ae12781ba0"
      },
      "execution_count": 10,
      "outputs": [
        {
          "output_type": "stream",
          "name": "stdout",
          "text": [
            "1\n"
          ]
        }
      ]
    },
    {
      "cell_type": "code",
      "source": [
        "\n",
        "numbers = [2, 3, 5, 7]\n",
        "remove_element = numbers.pop(2)\n",
        "print('Removed Element:', remove_element)\n",
        "print('Updated List:', numbers)"
      ],
      "metadata": {
        "colab": {
          "base_uri": "https://localhost:8080/"
        },
        "id": "f_PMo6y6ZOeL",
        "outputId": "fc793491-08f8-4027-eed9-1fde913135f8"
      },
      "execution_count": 14,
      "outputs": [
        {
          "output_type": "stream",
          "name": "stdout",
          "text": [
            "Removed Element: 5\n",
            "Updated List: [2, 3, 7]\n"
          ]
        }
      ]
    },
    {
      "cell_type": "code",
      "source": [
        "numbers = [2, 3, 5, 7]\n",
        "numbers.remove(2)\n",
        "print('Updated List: ', numbers)\n"
      ],
      "metadata": {
        "colab": {
          "base_uri": "https://localhost:8080/"
        },
        "id": "6SUx7GTyawA5",
        "outputId": "1b7d8bb9-9e58-4cd9-c017-e6851f8cbc75"
      },
      "execution_count": 16,
      "outputs": [
        {
          "output_type": "stream",
          "name": "stdout",
          "text": [
            "Updated List:  [3, 5, 7]\n"
          ]
        }
      ]
    },
    {
      "cell_type": "code",
      "source": [
        "country = ['India', 'Australia', 'USA']\n",
        "country.append('China')\n",
        "\n",
        "print(country)"
      ],
      "metadata": {
        "colab": {
          "base_uri": "https://localhost:8080/"
        },
        "id": "cjQFu4B5bLm4",
        "outputId": "b6dc35ba-e46d-4d9e-b96b-b248c0054aa8"
      },
      "execution_count": 17,
      "outputs": [
        {
          "output_type": "stream",
          "name": "stdout",
          "text": [
            "['India', 'Australia', 'USA', 'China']\n"
          ]
        }
      ]
    },
    {
      "cell_type": "code",
      "source": [
        "numbers = [11, 3, 7, 5, 2]\n",
        "numbers.sort()\n",
        "print(numbers)\n"
      ],
      "metadata": {
        "colab": {
          "base_uri": "https://localhost:8080/"
        },
        "id": "0rXxHAk9b7Uh",
        "outputId": "3213b497-430a-46cf-b639-089a249db02d"
      },
      "execution_count": 18,
      "outputs": [
        {
          "output_type": "stream",
          "name": "stdout",
          "text": [
            "[2, 3, 5, 7, 11]\n"
          ]
        }
      ]
    },
    {
      "cell_type": "code",
      "source": [
        "\n",
        "numbers = [2, 3, 5, 7]\n",
        "numbers.reverse()\n",
        "print('Reversed List:', numbers)"
      ],
      "metadata": {
        "colab": {
          "base_uri": "https://localhost:8080/"
        },
        "id": "bwaD7NYpcLCw",
        "outputId": "7596739c-b75b-499e-f481-f3660bcd4c11"
      },
      "execution_count": 19,
      "outputs": [
        {
          "output_type": "stream",
          "name": "stdout",
          "text": [
            "Reversed List: [7, 5, 3, 2]\n"
          ]
        }
      ]
    },
    {
      "cell_type": "code",
      "source": [
        ""
      ],
      "metadata": {
        "id": "0Ix39RrLcdzT"
      },
      "execution_count": null,
      "outputs": []
    }
  ]
}