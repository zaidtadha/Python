{
  "cells": [
    {
      "cell_type": "markdown",
      "metadata": {
        "id": "view-in-github",
        "colab_type": "text"
      },
      "source": [
        "<a href=\"https://colab.research.google.com/github/zaidtadha/Python/blob/main/Untitled5.ipynb\" target=\"_parent\"><img src=\"https://colab.research.google.com/assets/colab-badge.svg\" alt=\"Open In Colab\"/></a>"
      ]
    },
    {
      "cell_type": "code",
      "execution_count": null,
      "metadata": {
        "colab": {
          "background_save": true,
          "base_uri": "https://localhost:8080/"
        },
        "id": "F_nMLMAPMQ7D",
        "outputId": "bb4c8335-5b37-4379-800e-ca8886478f1c"
      },
      "outputs": [
        {
          "name": "stdout",
          "output_type": "stream",
          "text": [
            "\n",
            "               \n",
            "                 MENU\n",
            "\n",
            "        press 1 for product manager\n",
            "        press 2 for customer\n",
            "\n",
            "       \n"
          ]
        }
      ],
      "source": [
        "menu = \"\"\"\n",
        "               \n",
        "                 MENU\n",
        "\n",
        "        press 1 for product manager\n",
        "        press 2 for customer\n",
        "\n",
        "       \"\"\"\n",
        "\n",
        "status = True\n",
        "fruit_stock = {}\n",
        "m_status = True\n",
        "while m_status:\n",
        "    print(menu)\n",
        "    user_choice = int(input(\"Select your role : \"))\n",
        "    if user_choice == 1:\n",
        "        print(\"Add fruit Stock \")\n",
        "        print(fruit_stock)\n",
        "        while status:\n",
        "            main_specification = {}\n",
        "            print(\"PRODUCT MANAGER\")\n",
        "            product_brand = input(\"enter fruit name : \")\n",
        "            qty = int(input(\"Enter no. of qty : \"))\n",
        "            price = int(input(\"Enter Price : \"))\n",
        "            \n",
        "            main_specification['qty'] = qty\n",
        "            main_specification['price'] = price\n",
        "\n",
        "            fruit_stock[product_brand] = main_specification\n",
        "            print(fruit_stock)\n",
        "\n",
        "            choice = input(\"do you want to continue : \").lower()\n",
        "            if choice == 'n':\n",
        "                status = False\n",
        "    elif user_choice == 2:\n",
        "        print(\"customer\")\n",
        "       \n",
        "        for k in fruit_stock.keys():\n",
        "            print(f\"-------- {k} ----------\")\n",
        "            \n",
        "\n",
        "        product_brand = input(\"enter fruit name : \")\n",
        "        qty = int(input(\"enter no. of qty do you want ? \"))\n",
        "        price = fruit_stock[product_brand][\"price\"]\n",
        "        print(\"ACTUAL PRICE : \",price)\n",
        "        total_price = qty * price\n",
        "        print(\"TOTAL PRICE : \",total_price)\n",
        "        proceed_menu = input(\"do you want to proceed this fruit items : press y for yes \")\n",
        "        new_qty = fruit_stock[product_brand]['qty'] - qty\n",
        "        if proceed_menu=='y':\n",
        "            fruit_stock[product_brand]['qty'] = new_qty\n",
        "    else:\n",
        "        print(\"CUSTOMER\")\n"
      ]
    },
    {
      "cell_type": "code",
      "execution_count": null,
      "metadata": {
        "id": "7TVRxHrlMzF6"
      },
      "outputs": [],
      "source": [
        "1\n"
      ]
    }
  ],
  "metadata": {
    "colab": {
      "provenance": [],
      "authorship_tag": "ABX9TyNbFPUVZjrsmtE5fOSlsdzx",
      "include_colab_link": true
    },
    "kernelspec": {
      "display_name": "Python 3",
      "name": "python3"
    },
    "language_info": {
      "name": "python"
    }
  },
  "nbformat": 4,
  "nbformat_minor": 0
}